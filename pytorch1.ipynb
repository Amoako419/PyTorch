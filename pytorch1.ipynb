{
 "cells": [
  {
   "cell_type": "code",
   "execution_count": 1,
   "metadata": {},
   "outputs": [
    {
     "name": "stdout",
     "output_type": "stream",
     "text": [
      "tensor([[0.0084, 0.6973],\n",
      "        [0.7704, 0.1614]])\n"
     ]
    }
   ],
   "source": [
    "import torch\n",
    "x= torch.rand(2,2)\n",
    "print(x)"
   ]
  },
  {
   "cell_type": "code",
   "execution_count": 2,
   "metadata": {},
   "outputs": [
    {
     "name": "stdout",
     "output_type": "stream",
     "text": [
      "Prediction befor training :F(5.0)=0.000\n"
     ]
    }
   ],
   "source": [
    "import torch \n",
    "X = torch.tensor([1,2,3,4,5,6,7,8], dtype=torch.float32)\n",
    "Y = torch.tensor([2,4,6,8,10,12,14,16],dtype=torch.float32)\n",
    "\n",
    "w = torch.tensor(0.0, dtype=torch.float32,requires_grad=True)\n",
    "\n",
    "def forward(x):\n",
    "    return w * x\n",
    "\n",
    "def loss(y,y_pred):\n",
    "    return((y_pred - y)**2).mean()\n",
    "X_test = 5.0\n",
    "\n",
    "print(f\"Prediction befor training :F({X_test})={forward(X_test).item():.3f}\")\n",
    "\n",
    "\n"
   ]
  }
 ],
 "metadata": {
  "kernelspec": {
   "display_name": "pytorch",
   "language": "python",
   "name": "python3"
  },
  "language_info": {
   "codemirror_mode": {
    "name": "ipython",
    "version": 3
   },
   "file_extension": ".py",
   "mimetype": "text/x-python",
   "name": "python",
   "nbconvert_exporter": "python",
   "pygments_lexer": "ipython3",
   "version": "3.11.7"
  }
 },
 "nbformat": 4,
 "nbformat_minor": 2
}
