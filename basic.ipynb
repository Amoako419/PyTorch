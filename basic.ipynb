{
 "cells": [
  {
   "cell_type": "code",
   "execution_count": 1,
   "metadata": {},
   "outputs": [
    {
     "name": "stdout",
     "output_type": "stream",
     "text": [
      "Shape of tensor: torch.Size([2, 3])\n",
      "Data type of tensor: torch.int64\n",
      "tensor([[1, 2, 3],\n",
      "        [4, 5, 6]])\n"
     ]
    }
   ],
   "source": [
    "import torch\n",
    "\n",
    "# Creating a tensor\n",
    "tensor_example = torch.tensor([[1, 2, 3], [4, 5, 6]])\n",
    "\n",
    "# Displaying basic properties of tensors\n",
    "print(f\"Shape of tensor: {tensor_example.shape}\")\n",
    "print(f\"Data type of tensor: {tensor_example.dtype}\")\n",
    "print(tensor_example)"
   ]
  },
  {
   "cell_type": "code",
   "execution_count": 2,
   "metadata": {},
   "outputs": [
    {
     "name": "stdout",
     "output_type": "stream",
     "text": [
      "Shape of tensor: torch.Size([3, 3])\n",
      "Data type of tensor: torch.int64\n",
      "tensor([[1, 2, 3],\n",
      "        [4, 5, 6],\n",
      "        [8, 9, 0]])\n"
     ]
    }
   ],
   "source": [
    "import torch\n",
    "\n",
    "# Tensor to be modified\n",
    "tensor_example = torch.tensor([[1, 2, 3], [4, 5, 6],[8,9,0]])\n",
    "\n",
    "# Displaying basic properties of tensors\n",
    "print(f\"Shape of tensor: {tensor_example.shape}\")\n",
    "print(f\"Data type of tensor: {tensor_example.dtype}\")\n",
    "print(tensor_example)"
   ]
  }
 ],
 "metadata": {
  "kernelspec": {
   "display_name": "pytorch",
   "language": "python",
   "name": "python3"
  },
  "language_info": {
   "codemirror_mode": {
    "name": "ipython",
    "version": 3
   },
   "file_extension": ".py",
   "mimetype": "text/x-python",
   "name": "python",
   "nbconvert_exporter": "python",
   "pygments_lexer": "ipython3",
   "version": "3.11.7"
  }
 },
 "nbformat": 4,
 "nbformat_minor": 2
}
