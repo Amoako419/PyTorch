{
 "cells": [
  {
   "cell_type": "code",
   "execution_count": 1,
   "metadata": {},
   "outputs": [
    {
     "name": "stdout",
     "output_type": "stream",
     "text": [
      "Shape of tensor: torch.Size([2, 3])\n",
      "Data type of tensor: torch.int64\n",
      "tensor([[1, 2, 3],\n",
      "        [4, 5, 6]])\n"
     ]
    }
   ],
   "source": [
    "import torch\n",
    "\n",
    "# Creating a tensor\n",
    "tensor_example = torch.tensor([[1, 2, 3], [4, 5, 6]])\n",
    "\n",
    "# Displaying basic properties of tensors\n",
    "print(f\"Shape of tensor: {tensor_example.shape}\")\n",
    "print(f\"Data type of tensor: {tensor_example.dtype}\")\n",
    "print(tensor_example)"
   ]
  },
  {
   "cell_type": "code",
   "execution_count": 2,
   "metadata": {},
   "outputs": [
    {
     "name": "stdout",
     "output_type": "stream",
     "text": [
      "Shape of tensor: torch.Size([3, 3])\n",
      "Data type of tensor: torch.int64\n",
      "tensor([[1, 2, 3],\n",
      "        [4, 5, 6],\n",
      "        [8, 9, 0]])\n"
     ]
    }
   ],
   "source": [
    "import torch\n",
    "\n",
    "# Tensor to be modified\n",
    "tensor_example = torch.tensor([[1, 2, 3], [4, 5, 6],[8,9,0]])\n",
    "\n",
    "# Displaying basic properties of tensors\n",
    "print(f\"Shape of tensor: {tensor_example.shape}\")\n",
    "print(f\"Data type of tensor: {tensor_example.dtype}\")\n",
    "print(tensor_example)"
   ]
  },
  {
   "cell_type": "code",
   "execution_count": 1,
   "metadata": {},
   "outputs": [
    {
     "name": "stdout",
     "output_type": "stream",
     "text": [
      "Tensor Addition:\n",
      "tensor([[ 6,  8],\n",
      "        [10, 12]], dtype=torch.int32)\n",
      "\n",
      "Element-wise Multiplication:\n",
      "tensor([[ 5, 12],\n",
      "        [21, 32]], dtype=torch.int32)\n",
      "\n",
      "Matrix Multiplication:\n",
      "tensor([[ 5],\n",
      "        [11]], dtype=torch.int32)\n",
      "\n",
      "Broadcasted Addition (Adding scalar value):\n",
      "tensor([[6, 7],\n",
      "        [8, 9]], dtype=torch.int32)\n",
      "\n",
      "Broadcasted Addition: \n",
      "tensor([[2, 3],\n",
      "        [5, 6]], dtype=torch.int32)\n",
      "\n",
      "Broadcasted Multiplication: \n",
      "tensor([[1, 2],\n",
      "        [6, 8]], dtype=torch.int32)\n",
      "\n"
     ]
    }
   ],
   "source": [
    "import torch\n",
    "\n",
    "# Creating three tensors\n",
    "tensor_a = torch.tensor([[1, 2], [3, 4]], dtype=torch.int32) # 2x2 tensor\n",
    "tensor_b = torch.tensor([[5, 6], [7, 8]], dtype=torch.int32) # 2x2 tensor\n",
    "tensor_c = torch.tensor([[1], [2]], dtype=torch.int32) # 2x1 tensor\n",
    "\n",
    "# Addition\n",
    "tensor_sum = torch.add(tensor_a, tensor_b)\n",
    "print(f\"Tensor Addition:\\n{tensor_sum}\\n\")\n",
    "\n",
    "# Element-wise Multiplication\n",
    "tensor_product = torch.mul(tensor_a, tensor_b)\n",
    "print(f\"Element-wise Multiplication:\\n{tensor_product}\\n\")\n",
    "\n",
    "# Matrix Multiplication \n",
    "tensor_matmul = torch.matmul(tensor_a, tensor_c)\n",
    "print(f\"Matrix Multiplication:\\n{tensor_matmul}\\n\")\n",
    "\n",
    "# Broadcasted Addition (Tensor + scalar)\n",
    "tensor_add_scalar = tensor_a + 5\n",
    "print(f\"Broadcasted Addition (Adding scalar value):\\n{tensor_add_scalar}\\n\")\n",
    "\n",
    "# Broadcasted Addition between tensors of different shapes: \n",
    "broadcasted_sum = tensor_a + tensor_c\n",
    "print(f\"Broadcasted Addition: \\n{broadcasted_sum}\\n\")\n",
    "\n",
    "# Broadcasted Multiplication between tensors of different shapes:\n",
    "broadcasted_mul = tensor_a * tensor_c\n",
    "print(f\"Broadcasted Multiplication: \\n{broadcasted_mul}\\n\")"
   ]
  }
 ],
 "metadata": {
  "kernelspec": {
   "display_name": "pytorch",
   "language": "python",
   "name": "python3"
  },
  "language_info": {
   "codemirror_mode": {
    "name": "ipython",
    "version": 3
   },
   "file_extension": ".py",
   "mimetype": "text/x-python",
   "name": "python",
   "nbconvert_exporter": "python",
   "pygments_lexer": "ipython3",
   "version": "3.11.7"
  }
 },
 "nbformat": 4,
 "nbformat_minor": 2
}
