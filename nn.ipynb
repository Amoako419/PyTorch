{
 "cells": [
  {
   "cell_type": "code",
   "execution_count": 1,
   "metadata": {},
   "outputs": [
    {
     "name": "stdout",
     "output_type": "stream",
     "text": [
      "SimpleNN(\n",
      "  (layer1): Linear(in_features=2, out_features=10, bias=True)\n",
      "  (relu): ReLU()\n",
      "  (layer2): Linear(in_features=10, out_features=1, bias=True)\n",
      "  (sigmoid): Sigmoid()\n",
      ")\n"
     ]
    }
   ],
   "source": [
    "import torch\n",
    "import torch.nn as nn\n",
    "\n",
    "# Define the neural network class\n",
    "class SimpleNN(nn.Module):\n",
    "    def __init__(self):\n",
    "        # Initialize the parent class\n",
    "        super(SimpleNN, self).__init__()\n",
    "        # First fully connected layer: input size 2, output size 10\n",
    "        self.layer1 = nn.Linear(in_features=2, out_features=10)\n",
    "        # ReLU activation function to be used after layer1\n",
    "        self.relu = nn.ReLU()\n",
    "        # Second fully connected layer: input size 10, output size 1\n",
    "        self.layer2 = nn.Linear(in_features=10, out_features=1)\n",
    "        # Sigmoid activation function to be used after layer2\n",
    "        self.sigmoid = nn.Sigmoid()\n",
    "\n",
    "    def forward(self, x):\n",
    "        # Apply layer1 (input: 2, output: 10)\n",
    "        x = self.layer1(x)\n",
    "        # Apply ReLU activation function (output: 10)\n",
    "        x = self.relu(x)\n",
    "        # Apply layer2 (input: 10, output: 1)\n",
    "        x = self.layer2(x)\n",
    "        # Apply Sigmoid activation function (output: 1)\n",
    "        x = self.sigmoid(x)\n",
    "        # Return the output\n",
    "        return x\n",
    "\n",
    "# Instantiate the model\n",
    "model = SimpleNN()\n",
    "\n",
    "# Print the model's architecture\n",
    "print(model)"
   ]
  }
 ],
 "metadata": {
  "kernelspec": {
   "display_name": "pytorch",
   "language": "python",
   "name": "python3"
  },
  "language_info": {
   "codemirror_mode": {
    "name": "ipython",
    "version": 3
   },
   "file_extension": ".py",
   "mimetype": "text/x-python",
   "name": "python",
   "nbconvert_exporter": "python",
   "pygments_lexer": "ipython3",
   "version": "3.11.7"
  }
 },
 "nbformat": 4,
 "nbformat_minor": 2
}
